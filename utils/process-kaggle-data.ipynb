{
 "cells": [
  {
   "cell_type": "code",
   "execution_count": 60,
   "metadata": {},
   "outputs": [],
   "source": [
    "# process data from https://www.kaggle.com/c/data-science-bowl-2018/data \n",
    "\n",
    "import pandas as pd \n",
    "from shutil import copyfile\n",
    "import os\n",
    "\n",
    "\n",
    "def make_csv(src, dest):\n",
    "    labels = pd.read_csv(f\"{src}/stage1_train_labels.csv\")\n",
    "    csv = pd.DataFrame()\n",
    "    result = labels.groupby(by=\"ImageId\",as_index=False).count()\n",
    "    csv[\"image\"] = [f\"{x}.png\" for x in result[\"ImageId\"]]\n",
    "    csv[\"result\"] = result['EncodedPixels']\n",
    "    csv.to_csv(f\"{dest}/test.csv\", index=False, columns=[\"image\", \"result\"])\n",
    "    \n",
    "def copy_files(src, dest):\n",
    "    for a in os.listdir(f\"{src}/stage1_train\"):\n",
    "        copyfile(f\"{src}/stage1_train/{a}/images/{a}.png\", f\"{dest}/{a}.png\")\n",
    "        \n",
    "def process(src, dest):\n",
    "    src = os.path.expanduser(src)\n",
    "    dest = os.path.expanduser(dest)\n",
    "    os.makedirs(dest, exist_ok=True)\n",
    "    make_csv(src, dest)\n",
    "    copy_files(src, dest)"
   ]
  },
  {
   "cell_type": "code",
   "execution_count": 59,
   "metadata": {},
   "outputs": [],
   "source": [
    "# process(\"~/Downloads/data-science-bowl-2018\", \"~/Data/kaggle\")"
   ]
  }
 ],
 "metadata": {
  "kernelspec": {
   "display_name": "Python 3",
   "language": "python",
   "name": "python3"
  },
  "language_info": {
   "codemirror_mode": {
    "name": "ipython",
    "version": 3
   },
   "file_extension": ".py",
   "mimetype": "text/x-python",
   "name": "python",
   "nbconvert_exporter": "python",
   "pygments_lexer": "ipython3",
   "version": "3.7.1"
  }
 },
 "nbformat": 4,
 "nbformat_minor": 2
}
