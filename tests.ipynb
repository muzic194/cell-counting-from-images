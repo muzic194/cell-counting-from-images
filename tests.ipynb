{
 "cells": [
  {
   "cell_type": "code",
   "execution_count": 49,
   "metadata": {},
   "outputs": [
    {
     "name": "stdout",
     "output_type": "stream",
     "text": [
      "Overwriting tests.py\n"
     ]
    }
   ],
   "source": [
    "%%writefile tests.py\n",
    "%run algorithms/countours.py # run functions from  separate file: countours.py in directory algorithms\n",
    "%%writefile tests.py\n",
    "\n",
    "import pandas as pd\n",
    "import seaborn as sns\n",
    "from sklearn.metrics import r2_score\n",
    "\n",
    "def analyze(inputdir, fn): \n",
    "    \"\"\"Returns dataframe (columns: image, expected, result, diff) and coefficient of determination value.\n",
    "    inputdir - directory with photo and csv file with columns: image,expected\n",
    "    fn - your algorithm which counts cells\"\"\"\n",
    "    \n",
    "    comparison = pd.read_csv(f\"{inputdir}/test.csv\")\n",
    "    comparison[\"result\"] = comparison[\"image\"].apply(lambda path: fn(f\"{inputdir}/{path}\")) # implements your counting algorythm for each image\n",
    "    comparison[\"diff\"] = comparison[\"result\"]-comparison[\"expected\"] # counts difference between expected and result\n",
    "    r2 = r2_score(comparison[\"expected\"], comparison[\"result\"]) # returns R^2 (coefficient of determination) regression score function\n",
    "    print(\"Coefficient of determination: \" + str(r2)) # 1.0 is the best score\n",
    "    return comparison # comparison is dataframe\n",
    "\n",
    "# tip: how to prepare your function to testing - example using Monika's algorythm:\n",
    "# def countours(filepath):\n",
    "#     return _countours(filepath, 60, 10, imshow=True)\n",
    "\n",
    "\n",
    "print(analyze(folder_path, counting_algorythm)) # in this place you have to write folder_name and counting_algorythm's name\n",
    "sns.catplot(x=\"image\", y=\"diff\", data=result, height=8, aspect=2) # plot- if dot is in 0 on y axis - it means that algorytm counted True value\n",
    "\n",
    "\n"
   ]
  },
  {
   "cell_type": "code",
   "execution_count": null,
   "metadata": {},
   "outputs": [],
   "source": []
  },
  {
   "cell_type": "code",
   "execution_count": null,
   "metadata": {},
   "outputs": [],
   "source": []
  }
 ],
 "metadata": {
  "kernelspec": {
   "display_name": "Python 3",
   "language": "python",
   "name": "python3"
  },
  "language_info": {
   "codemirror_mode": {
    "name": "ipython",
    "version": 3
   },
   "file_extension": ".py",
   "mimetype": "text/x-python",
   "name": "python",
   "nbconvert_exporter": "python",
   "pygments_lexer": "ipython3",
   "version": "3.7.1"
  }
 },
 "nbformat": 4,
 "nbformat_minor": 2
}
